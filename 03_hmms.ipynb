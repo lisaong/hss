{
  "nbformat": 4,
  "nbformat_minor": 0,
  "metadata": {
    "kernelspec": {
      "display_name": "Python 3",
      "language": "python",
      "name": "python3"
    },
    "language_info": {
      "codemirror_mode": {
        "name": "ipython",
        "version": 3
      },
      "file_extension": ".py",
      "mimetype": "text/x-python",
      "name": "python",
      "nbconvert_exporter": "python",
      "pygments_lexer": "ipython3",
      "version": "3.7.3"
    },
    "colab": {
      "name": "03_hmms.ipynb",
      "provenance": [],
      "include_colab_link": true
    }
  },
  "cells": [
    {
      "cell_type": "markdown",
      "metadata": {
        "id": "view-in-github",
        "colab_type": "text"
      },
      "source": [
        "<a href=\"https://colab.research.google.com/github/lisaong/hss/blob/master/03_hmms.ipynb\" target=\"_parent\"><img src=\"https://colab.research.google.com/assets/colab-badge.svg\" alt=\"Open In Colab\"/></a>"
      ]
    },
    {
      "cell_type": "markdown",
      "metadata": {
        "id": "160hTrmkfGk6",
        "colab_type": "text"
      },
      "source": [
        "# Introduction to Hidden Markov Models\n",
        "\n",
        "https://en.wikipedia.org/wiki/Hidden_Markov_model\n",
        "\n",
        "Consider two friends, Alice and Bob, who live far apart from each other and who talk together daily over the telephone about what they did that day. \n",
        "\n",
        "Bob is only interested in three activities: walking in the park, shopping, and cleaning his apartment. The choice of what to do is determined exclusively by the weather on a given day. Alice has no definite information about the weather, but she knows general trends.\n",
        "\n",
        "Based on what Bob tells her he did each day, Alice tries to guess what the weather must have been like.\n",
        "\n",
        "![hmm](https://github.com/lisaong/hss/blob/master/assets/400px-HMMGraph.svg.png?raw=1)"
      ]
    },
    {
      "cell_type": "code",
      "metadata": {
        "id": "EvdUrgItfGk8",
        "colab_type": "code",
        "colab": {}
      },
      "source": [
        "states = ('Rainy', 'Sunny')\n",
        "\n",
        "# initial state of the HMM (tends to rain)\n",
        "start_probability = {'Rainy': 0.6, 'Sunny': 0.4}"
      ],
      "execution_count": 0,
      "outputs": []
    },
    {
      "cell_type": "markdown",
      "metadata": {
        "id": "fAFRN0YLfGlA",
        "colab_type": "text"
      },
      "source": [
        "Transition Probability: $P(a_i|a_{i-1})$\n",
        "\n",
        "This is the probability of state a[i] given a[i-1]."
      ]
    },
    {
      "cell_type": "code",
      "metadata": {
        "id": "W6c9uy6jfGlB",
        "colab_type": "code",
        "colab": {}
      },
      "source": [
        "transition_probability = {\n",
        "   'Rainy' : {'Rainy': 0.7, 'Sunny': 0.3},\n",
        "   'Sunny' : {'Rainy': 0.4, 'Sunny': 0.6},\n",
        "}"
      ],
      "execution_count": 0,
      "outputs": []
    },
    {
      "cell_type": "markdown",
      "metadata": {
        "id": "cVfnzWDXfGlF",
        "colab_type": "text"
      },
      "source": [
        "Emission Probability: $P(b_i|a_i)$\n",
        "\n",
        "This is the probability of result b[i] given state a[i]"
      ]
    },
    {
      "cell_type": "code",
      "metadata": {
        "id": "PxP6loEEfGlG",
        "colab_type": "code",
        "colab": {}
      },
      "source": [
        "emission_probability = {\n",
        "   'Rainy' : {'walk': 0.1, 'shop': 0.4, 'clean': 0.5},\n",
        "   'Sunny' : {'walk': 0.6, 'shop': 0.3, 'clean': 0.1},\n",
        "}"
      ],
      "execution_count": 0,
      "outputs": []
    },
    {
      "cell_type": "markdown",
      "metadata": {
        "id": "czqc5f3JfGlJ",
        "colab_type": "text"
      },
      "source": [
        "## Hidden Markov Model\n",
        "\n",
        "Given what Bob did in 3 days (walk, shop, clean), what was the weather during those 3 days?\n",
        "\n",
        "$P(b_0, ..., b_{n-1}|a_0, ... , a_{n-1}) = \\prod P(b_i|a_i) \\prod P(a_i|a_{i-1})$\n",
        "\n",
        "\n",
        "### Viterbi Algorithm\n",
        "\n",
        "This algorithm is useful in finding the subsequence of an observation that matches best (on average) to a given Hidden Markov Model.\n",
        "\n",
        "https://en.wikipedia.org/wiki/Viterbi_algorithm\n",
        "\n",
        "### Applications\n",
        "- Finding the most likely sequence of events (3 rainy days in a row) that caused an observation (Bob stayed home)\n",
        "- Finding the most likely sequence of speech phonemes that resulted in a spoken phrase\n",
        "- Finding the most likely sequence of poses that best matches an activity\n",
        "- https://en.wikipedia.org/wiki/Hidden_Markov_model#Applications"
      ]
    },
    {
      "cell_type": "code",
      "metadata": {
        "id": "G-3Bi2pVfGlK",
        "colab_type": "code",
        "colab": {}
      },
      "source": [
        "from pprint import pprint\n",
        "import numpy as np\n",
        "\n",
        "def viterbi(obs, states, start_p, trans_p, emit_p):\n",
        "    V = [{}]\n",
        "    for st in states:\n",
        "        V[0][st] = {\"prob\": start_p[st] * emit_p[st][obs[0]], \"prev\": None}\n",
        "\n",
        "    print('Viterbi table at step 0:')\n",
        "    pprint(V)\n",
        "\n",
        "    # Run viterbi algorithm for step t>0\n",
        "    for t in range(1, len(obs)):\n",
        "        V.append({})\n",
        "\n",
        "        for st in states:\n",
        "            # Compute the state that results in highest probability at step t\n",
        "            tr_probs = np.array([V[t-1][prev_st][\"prob\"]*trans_p[prev_st][st]\n",
        "                                  for prev_st in states])\n",
        "            max_tr_prob = tr_probs.max()\n",
        "            prev_st_selected = states[tr_probs.argmax()]\n",
        "\n",
        "            max_prob = max_tr_prob * emit_p[st][obs[t]]\n",
        "            V[t][st] = {\"prob\": max_prob, \"prev\": prev_st_selected}\n",
        "\n",
        "        print('Viterbi table at step %s:' % t)\n",
        "        pprint(V)\n",
        "\n",
        "    print('================================\\nFinal outcome:')\n",
        "    \n",
        "    print(\" \".join((\"%8d\" % i) for i in range(len(V))))\n",
        "    for state in V[0]:\n",
        "        print(\"%.7s: \" % state + \" \".join(\"%.7s\" % (\"%f\" % v[state][\"prob\"]) for v in V))\n",
        "\n",
        "    opt = []\n",
        "\n",
        "    # The highest probability at the end of the sequence\n",
        "    max_prob = max(value[\"prob\"] for value in V[-1].values())\n",
        "\n",
        "    # Get most probable state and its backtrack\n",
        "    for st, data in V[-1].items():\n",
        "        if data[\"prob\"] == max_prob:\n",
        "            opt.append(st)\n",
        "            previous = st\n",
        "            break\n",
        "\n",
        "    print(f'final state: {previous}, prob: {max_prob}')\n",
        "\n",
        "    # Follow the backtrack till the first observation\n",
        "    for t in range(len(V)-2, -1, -1):\n",
        "        opt.insert(0, V[t+1][previous][\"prev\"])\n",
        "        previous = V[t+1][previous][\"prev\"]\n",
        "        print(f'{t}: {previous}')\n",
        "\n",
        "    print(f'The steps of states are {\" \".join(opt)} with highest probability of {max_prob}')"
      ],
      "execution_count": 0,
      "outputs": []
    },
    {
      "cell_type": "code",
      "metadata": {
        "id": "3-JHCGEYfGlN",
        "colab_type": "code",
        "outputId": "c94c3ae5-87b7-42f6-af92-bb4b6bf6c96a",
        "colab": {
          "base_uri": "https://localhost:8080/",
          "height": 377
        }
      },
      "source": [
        "viterbi(\n",
        "    ('walk', 'shop', 'clean'),\n",
        "    states,\n",
        "    start_probability,\n",
        "    transition_probability,\n",
        "    emission_probability)"
      ],
      "execution_count": 74,
      "outputs": [
        {
          "output_type": "stream",
          "text": [
            "Viterbi table at step 0:\n",
            "[{'Rainy': {'prev': None, 'prob': 0.06}, 'Sunny': {'prev': None, 'prob': 0.24}}]\n",
            "Viterbi table at step 1:\n",
            "[{'Rainy': {'prev': None, 'prob': 0.06}, 'Sunny': {'prev': None, 'prob': 0.24}},\n",
            " {'Rainy': {'prev': 'Sunny', 'prob': 0.038400000000000004},\n",
            "  'Sunny': {'prev': 'Sunny', 'prob': 0.043199999999999995}}]\n",
            "Viterbi table at step 2:\n",
            "[{'Rainy': {'prev': None, 'prob': 0.06}, 'Sunny': {'prev': None, 'prob': 0.24}},\n",
            " {'Rainy': {'prev': 'Sunny', 'prob': 0.038400000000000004},\n",
            "  'Sunny': {'prev': 'Sunny', 'prob': 0.043199999999999995}},\n",
            " {'Rainy': {'prev': 'Rainy', 'prob': 0.01344},\n",
            "  'Sunny': {'prev': 'Sunny', 'prob': 0.0025919999999999997}}]\n",
            "================================\n",
            "Final outcome:\n",
            "       0        1        2\n",
            "Rainy: 0.06000 0.03840 0.01344\n",
            "Sunny: 0.24000 0.04320 0.00259\n",
            "final state: Rainy, prob: 0.01344\n",
            "1: Rainy\n",
            "0: Sunny\n",
            "The steps of states are Sunny Rainy Rainy with highest probability of 0.01344\n"
          ],
          "name": "stdout"
        }
      ]
    },
    {
      "cell_type": "code",
      "metadata": {
        "id": "DEifrpJhfGlS",
        "colab_type": "code",
        "outputId": "0428a803-fd05-4dd0-f27b-85e3c0adb552",
        "colab": {
          "base_uri": "https://localhost:8080/",
          "height": 463
        }
      },
      "source": [
        "viterbi(\n",
        "    ('walk', 'clean', 'walk', 'shop'),\n",
        "    states,\n",
        "    start_probability,\n",
        "    transition_probability,\n",
        "    emission_probability)"
      ],
      "execution_count": 54,
      "outputs": [
        {
          "output_type": "stream",
          "text": [
            "Viterbi table at step 0:\n",
            "[{'Rainy': {'prev': None, 'prob': 0.06}, 'Sunny': {'prev': None, 'prob': 0.24}}]\n",
            "Viterbi table at step 1:\n",
            "[{'Rainy': {'prev': None, 'prob': 0.06}, 'Sunny': {'prev': None, 'prob': 0.24}},\n",
            " {'Rainy': {'prev': 'Sunny', 'prob': 0.048},\n",
            "  'Sunny': {'prev': 'Sunny', 'prob': 0.0144}}]\n",
            "Viterbi table at step 2:\n",
            "[{'Rainy': {'prev': None, 'prob': 0.06}, 'Sunny': {'prev': None, 'prob': 0.24}},\n",
            " {'Rainy': {'prev': 'Sunny', 'prob': 0.048},\n",
            "  'Sunny': {'prev': 'Sunny', 'prob': 0.0144}},\n",
            " {'Rainy': {'prev': 'Rainy', 'prob': 0.00336},\n",
            "  'Sunny': {'prev': 'Rainy', 'prob': 0.00864}}]\n",
            "Viterbi table at step 3:\n",
            "[{'Rainy': {'prev': None, 'prob': 0.06}, 'Sunny': {'prev': None, 'prob': 0.24}},\n",
            " {'Rainy': {'prev': 'Sunny', 'prob': 0.048},\n",
            "  'Sunny': {'prev': 'Sunny', 'prob': 0.0144}},\n",
            " {'Rainy': {'prev': 'Rainy', 'prob': 0.00336},\n",
            "  'Sunny': {'prev': 'Rainy', 'prob': 0.00864}},\n",
            " {'Rainy': {'prev': 'Sunny', 'prob': 0.0013824000000000002},\n",
            "  'Sunny': {'prev': 'Sunny', 'prob': 0.0015552}}]\n",
            "================================\n",
            "Final outcome:\n",
            "       0        1        2        3\n",
            "Rainy: 0.06000 0.04800 0.00336 0.00138\n",
            "Sunny: 0.24000 0.01440 0.00864 0.00155\n",
            "The steps of states are Sunny Rainy Sunny Sunny with highest probability of 0.0015552\n"
          ],
          "name": "stdout"
        }
      ]
    },
    {
      "cell_type": "markdown",
      "metadata": {
        "id": "s8HA3oI2fGlV",
        "colab_type": "text"
      },
      "source": [
        "## hmmlearn\n",
        "\n",
        "Instead of computing a Hidden Markov Model manually using the Viterbi Algorithm, we can use libraries such as hmmlearn.\n",
        "\n",
        "https://hmmlearn.readthedocs.io"
      ]
    },
    {
      "cell_type": "code",
      "metadata": {
        "id": "LkPEFdcQfO9Y",
        "colab_type": "code",
        "outputId": "c4ffec24-22c0-4ea5-c679-4d69ec8f2598",
        "colab": {
          "base_uri": "https://localhost:8080/",
          "height": 123
        }
      },
      "source": [
        "!pip install hmmlearn"
      ],
      "execution_count": 55,
      "outputs": [
        {
          "output_type": "stream",
          "text": [
            "Requirement already satisfied: hmmlearn in /usr/local/lib/python3.6/dist-packages (0.2.3)\n",
            "Requirement already satisfied: scipy>=0.15 in /usr/local/lib/python3.6/dist-packages (from hmmlearn) (1.4.1)\n",
            "Requirement already satisfied: numpy>=1.10 in /usr/local/lib/python3.6/dist-packages (from hmmlearn) (1.18.1)\n",
            "Requirement already satisfied: scikit-learn>=0.16 in /usr/local/lib/python3.6/dist-packages (from hmmlearn) (0.22.2.post1)\n",
            "Requirement already satisfied: joblib>=0.11 in /usr/local/lib/python3.6/dist-packages (from scikit-learn>=0.16->hmmlearn) (0.14.1)\n"
          ],
          "name": "stdout"
        }
      ]
    },
    {
      "cell_type": "code",
      "metadata": {
        "id": "NrPpZEdHfGlW",
        "colab_type": "code",
        "colab": {}
      },
      "source": [
        "from hmmlearn import hmm\n",
        "\n",
        "# https://hmmlearn.readthedocs.io/en/latest/api.html#multinomialhmm\n",
        "model = hmm.MultinomialHMM(n_components=len(states))\n",
        "\n",
        "# start_probability = {'Rainy': 0.6, 'Sunny': 0.4}\n",
        "model.startprob_ = np.array([0.6, 0.4])\n",
        "\n",
        "# transition_probability = {\n",
        "#   'Rainy' : {'Rainy': 0.7, 'Sunny': 0.3},\n",
        "#   'Sunny' : {'Rainy': 0.4, 'Sunny': 0.6},\n",
        "# }\n",
        "model.transmat_ = np.array(\n",
        "    [[0.7, 0.3,],\n",
        "     [0.4, 0.6]]\n",
        ")\n",
        "\n",
        "# emission_probability = {\n",
        "#   'Rainy' : {'walk': 0.1, 'shop': 0.4, 'clean': 0.5},\n",
        "#   'Sunny' : {'walk': 0.6, 'shop': 0.3, 'clean': 0.1},\n",
        "# }\n",
        "model.emissionprob_ = np.array([\n",
        "  # walk, shop, clean\n",
        "  [0.1, 0.4, 0.5],\n",
        "  [0.6, 0.3, 0.1]\n",
        "])"
      ],
      "execution_count": 0,
      "outputs": []
    },
    {
      "cell_type": "code",
      "metadata": {
        "id": "0p2kNKmWfGlZ",
        "colab_type": "code",
        "outputId": "e8df3c02-124a-44f5-bcbf-99bab58ef86d",
        "colab": {
          "base_uri": "https://localhost:8080/",
          "height": 86
        }
      },
      "source": [
        "# walk: 0, shop: 1, clean: 2\n",
        "\n",
        "# X: ('walk', 'shop', 'clean')\n",
        "X = np.array([0, 1, 2]).reshape(-1, 1) # make into 2-D array\n",
        "\n",
        "model.fit(X)\n",
        "\n",
        "b = ['Rainy', 'Sunny']\n",
        "[print(b[y]) for y in model.predict(X)];"
      ],
      "execution_count": 57,
      "outputs": [
        {
          "output_type": "stream",
          "text": [
            "Fitting a model with 7 free scalar parameters with only 3 data points will result in a degenerate solution.\n"
          ],
          "name": "stderr"
        },
        {
          "output_type": "stream",
          "text": [
            "Sunny\n",
            "Rainy\n",
            "Sunny\n"
          ],
          "name": "stdout"
        }
      ]
    },
    {
      "cell_type": "code",
      "metadata": {
        "id": "ElTnob4xfGlc",
        "colab_type": "code",
        "outputId": "205a150f-bb49-41c3-f1d3-287883767a69",
        "colab": {
          "base_uri": "https://localhost:8080/",
          "height": 86
        }
      },
      "source": [
        "# walk: 0, shop: 1, clean: 2\n",
        "\n",
        "# X: ('walk', 'clean', 'walk', 'shop'),\n",
        "X = np.array([0, 2, 0, 1]).reshape(-1, 1)\n",
        "\n",
        "[print(b[y]) for y in model.predict(X)];"
      ],
      "execution_count": 58,
      "outputs": [
        {
          "output_type": "stream",
          "text": [
            "Sunny\n",
            "Rainy\n",
            "Sunny\n",
            "Rainy\n"
          ],
          "name": "stdout"
        }
      ]
    },
    {
      "cell_type": "code",
      "metadata": {
        "id": "81eGgCLcfGlf",
        "colab_type": "code",
        "colab": {}
      },
      "source": [
        ""
      ],
      "execution_count": 0,
      "outputs": []
    },
    {
      "cell_type": "code",
      "metadata": {
        "id": "H-CMuhmsfGlh",
        "colab_type": "code",
        "colab": {}
      },
      "source": [
        ""
      ],
      "execution_count": 0,
      "outputs": []
    }
  ]
}