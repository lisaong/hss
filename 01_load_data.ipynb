{
 "cells": [
  {
   "cell_type": "markdown",
   "metadata": {},
   "source": [
    "# Loading Kinoeva Data\n",
    "\n",
    "Loading and parsing text data exported from Kinovea\n",
    "\n",
    "This is the data that is exported as text format.  For example:\n",
    "\n",
    "```\n",
    "#Kinovea Trajectory data export\n",
    "#T X Y\n",
    "0:00:00:00 0.00 0.00 \n",
    "0:00:00:03 1.00 9.00 \n",
    "0:00:00:06 2.00 20.00 \n",
    "0:00:00:10 3.00 34.00 \n",
    "0:00:00:13 5.00 48.00 \n",
    "0:00:00:16 6.00 66.00 \n",
    "0:00:00:20 8.00 84.00 \n",
    "0:00:00:23 8.00 104.00 \n",
    "0:00:00:26 7.00 125.00 \n",
    "0:00:00:30 6.00 145.00 \n",
    "0:00:00:33 7.00 164.00 \n",
    "0:00:00:36 9.00 182.00 \n",
    "0:00:00:40 20.00 201.00 \n",
    "\n",
    "```"
   ]
  },
  {
   "cell_type": "code",
   "execution_count": null,
   "metadata": {},
   "outputs": [],
   "source": [
    "import pandas as pd"
   ]
  },
  {
   "cell_type": "code",
   "execution_count": null,
   "metadata": {},
   "outputs": [],
   "source": [
    "df = pd.read_csv('data/2/CFF Demo_ Underhand Vertical Med Ball Throw.txt', delim_whitespace=True,\n",
    "                 index_col=0)\n",
    "df.head()"
   ]
  },
  {
   "cell_type": "code",
   "execution_count": null,
   "metadata": {},
   "outputs": [],
   "source": [
    "# drop last column\n",
    "df.drop(columns=['export'], inplace=True)\n",
    "df.head()"
   ]
  },
  {
   "cell_type": "code",
   "execution_count": null,
   "metadata": {},
   "outputs": [],
   "source": [
    "# replace column names\n",
    "df.columns = ['X', 'Y']\n",
    "df.head()"
   ]
  },
  {
   "cell_type": "code",
   "execution_count": null,
   "metadata": {},
   "outputs": [],
   "source": [
    "# remove first row\n",
    "df.drop(['#T'], inplace=True)\n",
    "df.head()"
   ]
  },
  {
   "cell_type": "code",
   "execution_count": null,
   "metadata": {},
   "outputs": [],
   "source": [
    "# rename index\n",
    "df.index.name = 'T'\n",
    "df.head()"
   ]
  },
  {
   "cell_type": "code",
   "execution_count": null,
   "metadata": {},
   "outputs": [],
   "source": []
  },
  {
   "cell_type": "code",
   "execution_count": null,
   "metadata": {},
   "outputs": [],
   "source": [
    "# save the original data as another column\n",
    "df['Original_timestamp'] = df.index\n",
    "df.index = pd.to_timedelta(df.index.str.replace(r'0:(.*)', r'\\1'))\n",
    "df.head()"
   ]
  },
  {
   "cell_type": "code",
   "execution_count": null,
   "metadata": {},
   "outputs": [],
   "source": [
    "# If you want to convert to dates (non-offset)\n",
    "# https://pandas.pydata.org/pandas-docs/stable/reference/api/pandas.Period.strftime.html\n",
    "#\n",
    "# df.index = pd.to_datetime(df.index, format='0:%H:%M:%S', errors='coerce')\n",
    "# pd.to_datetime(df.index, format='0:%H:%M:%S', errors='coerce')"
   ]
  },
  {
   "cell_type": "code",
   "execution_count": null,
   "metadata": {},
   "outputs": [],
   "source": []
  },
  {
   "cell_type": "code",
   "execution_count": null,
   "metadata": {},
   "outputs": [],
   "source": [
    "# The above is quite a bit of code, so maybe easier to organize in \n",
    "# a function for reusability\n",
    "\n",
    "def read_kinoeva(input_file):\n",
    "    \"\"\"\n",
    "    Arguments:\n",
    "    input_file - path to the text file\n",
    "    \n",
    "    Returns:\n",
    "    A pandas dataframe containing the data\n",
    "    \"\"\"\n",
    "    # df will have local scope\n",
    "    df = pd.read_csv(input_file, delim_whitespace=True, index_col=0)\n",
    "    \n",
    "    # drop last column\n",
    "    df.drop(columns=['export'], inplace=True)\n",
    "    \n",
    "    # replace column names\n",
    "    df.columns = ['X', 'Y']\n",
    "    \n",
    "    # remove first row\n",
    "    df.drop(['#T'], inplace=True)\n",
    "    \n",
    "    # rename index\n",
    "    df.index.name = 'T'\n",
    "    \n",
    "    # save the original data as another column\n",
    "    df['Original_timestamp'] = df.index\n",
    "    df.index = pd.to_timedelta(df.index.str.replace(r'0:(.*)', r'\\1'))\n",
    "    \n",
    "    return df"
   ]
  },
  {
   "cell_type": "code",
   "execution_count": null,
   "metadata": {},
   "outputs": [],
   "source": [
    "df = read_kinoeva('data/2/CFF Demo_ Underhand Vertical Med Ball Throw.txt')\n",
    "\n",
    "print(df.info())\n",
    "df.head()"
   ]
  },
  {
   "cell_type": "code",
   "execution_count": null,
   "metadata": {},
   "outputs": [],
   "source": []
  }
 ],
 "metadata": {
  "kernelspec": {
   "display_name": "Python 3",
   "language": "python",
   "name": "python3"
  },
  "language_info": {
   "codemirror_mode": {
    "name": "ipython",
    "version": 3
   },
   "file_extension": ".py",
   "mimetype": "text/x-python",
   "name": "python",
   "nbconvert_exporter": "python",
   "pygments_lexer": "ipython3",
   "version": "3.6.5"
  }
 },
 "nbformat": 4,
 "nbformat_minor": 2
}
