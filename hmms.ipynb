{
 "cells": [
  {
   "attachments": {},
   "cell_type": "markdown",
   "metadata": {},
   "source": [
    "# Introduction to Hidden Markov Models\n",
    "\n",
    "https://en.wikipedia.org/wiki/Hidden_Markov_model\n",
    "\n",
    "Consider two friends, Alice and Bob, who live far apart from each other and who talk together daily over the telephone about what they did that day. \n",
    "\n",
    "Bob is only interested in three activities: walking in the park, shopping, and cleaning his apartment. The choice of what to do is determined exclusively by the weather on a given day. Alice has no definite information about the weather, but she knows general trends.\n",
    "\n",
    "Based on what Bob tells her he did each day, Alice tries to guess what the weather must have been like.\n",
    "\n",
    "![hmm](assets/400px-HMMGraph.svg.png)"
   ]
  },
  {
   "cell_type": "code",
   "execution_count": 7,
   "metadata": {},
   "outputs": [],
   "source": [
    "states = ('Rainy', 'Sunny')\n",
    "\n",
    "# initial state of the HMM (tends to rain)\n",
    "start_probability = {'Rainy': 0.6, 'Sunny': 0.4}"
   ]
  },
  {
   "cell_type": "markdown",
   "metadata": {},
   "source": [
    "Transition Probability: $P(a_i|a_{i-1})$"
   ]
  },
  {
   "cell_type": "code",
   "execution_count": 5,
   "metadata": {},
   "outputs": [],
   "source": [
    "transition_probability = {\n",
    "   'Rainy' : {'Rainy': 0.7, 'Sunny': 0.3},\n",
    "   'Sunny' : {'Rainy': 0.4, 'Sunny': 0.6},\n",
    "}"
   ]
  },
  {
   "cell_type": "markdown",
   "metadata": {},
   "source": [
    "Emission Probability: $P(b_i|a_i)$"
   ]
  },
  {
   "cell_type": "code",
   "execution_count": 6,
   "metadata": {},
   "outputs": [],
   "source": [
    "emission_probability = {\n",
    "   'Rainy' : {'walk': 0.1, 'shop': 0.4, 'clean': 0.5},\n",
    "   'Sunny' : {'walk': 0.6, 'shop': 0.3, 'clean': 0.1},\n",
    "}"
   ]
  },
  {
   "cell_type": "markdown",
   "metadata": {},
   "source": [
    "## Hidden Markov Model\n",
    "\n",
    "Given what Bob did in 3 days (walk, shop, clean), what was the weather during those 3 days?\n",
    "\n",
    "$P(b_0, ..., b_{n-1}|a_0, ... , a_{n-1}) = \\prod P(b_i|a_i) \\prod P(a_i|a_{i-1})$\n",
    "\n",
    "\n",
    "### Viterbi Algorithm\n",
    "\n",
    "Find the subsequence of an observation that matches best (on average) to a given Hidden Markov Model.\n",
    " \n",
    "https://en.wikipedia.org/wiki/Viterbi_algorithm"
   ]
  },
  {
   "cell_type": "code",
   "execution_count": 74,
   "metadata": {},
   "outputs": [],
   "source": [
    "from pprint import pprint\n",
    "\n",
    "def viterbi(obs, states, start_p, trans_p, emit_p):\n",
    "    V = [{}]\n",
    "    for st in states:\n",
    "        V[0][st] = {\"prob\": start_p[st] * emit_p[st][obs[0]], \"prev\": None}\n",
    "\n",
    "    print('Viterbi table at step 0:')\n",
    "    pprint(V)\n",
    "\n",
    "    # Run viterbi algorithm for step t>0\n",
    "    for t in range(1, len(obs)):\n",
    "        V.append({})\n",
    "\n",
    "        for st in states:\n",
    "            # Compute the state that results in highest probability at step t\n",
    "            max_tr_prob = V[t-1][states[0]][\"prob\"]*trans_p[states[0]][st]\n",
    "            prev_st_selected = states[0]\n",
    "\n",
    "            for prev_st in states[1:]:\n",
    "                tr_prob = V[t-1][prev_st][\"prob\"]*trans_p[prev_st][st]\n",
    "\n",
    "                if tr_prob > max_tr_prob:\n",
    "                    max_tr_prob = tr_prob\n",
    "                    prev_st_selected = prev_st\n",
    "                    \n",
    "            max_prob = max_tr_prob * emit_p[st][obs[t]]\n",
    "            V[t][st] = {\"prob\": max_prob, \"prev\": prev_st_selected}\n",
    "\n",
    "        print('Viterbi table at step %s:' % t)\n",
    "        pprint(V)\n",
    "\n",
    "    print('================================\\nFinal outcome:')\n",
    "    for line in dptable(V):\n",
    "        print(line)\n",
    "\n",
    "    opt = []\n",
    "\n",
    "    # The highest probability at the end of the sequence\n",
    "    max_prob = max(value[\"prob\"] for value in V[-1].values())\n",
    "    previous = None\n",
    "\n",
    "    # Get most probable state and its backtrack\n",
    "    for st, data in V[-1].items():\n",
    "        if data[\"prob\"] == max_prob:\n",
    "            opt.append(st)\n",
    "            previous = st\n",
    "            break\n",
    "\n",
    "    # Follow the backtrack till the first observation\n",
    "    for t in range(len(V)-2, -1, -1):\n",
    "        opt.insert(0, V[t+1][previous][\"prev\"])\n",
    "        previous = V[t+1][previous][\"prev\"]\n",
    "\n",
    "    print('The steps of states are ' + ' '.join(opt) + ' with highest probability of %s' % max_prob)\n",
    "\n",
    "def dptable(V):\n",
    "    yield \" \".join((\"%8d\" % i) for i in range(len(V)))\n",
    "    for state in V[0]:\n",
    "        yield \"%.7s: \" % state + \" \".join(\"%.7s\" % (\"%f\" % v[state][\"prob\"]) for v in V)"
   ]
  },
  {
   "cell_type": "code",
   "execution_count": 76,
   "metadata": {},
   "outputs": [
    {
     "name": "stdout",
     "output_type": "stream",
     "text": [
      "Viterbi table at step 0:\n",
      "[{'Rainy': {'prev': None, 'prob': 0.06}, 'Sunny': {'prev': None, 'prob': 0.24}}]\n",
      "Viterbi table at step 1:\n",
      "[{'Rainy': {'prev': None, 'prob': 0.06}, 'Sunny': {'prev': None, 'prob': 0.24}},\n",
      " {'Rainy': {'prev': 'Sunny', 'prob': 0.038400000000000004},\n",
      "  'Sunny': {'prev': 'Sunny', 'prob': 0.043199999999999995}}]\n",
      "Viterbi table at step 2:\n",
      "[{'Rainy': {'prev': None, 'prob': 0.06}, 'Sunny': {'prev': None, 'prob': 0.24}},\n",
      " {'Rainy': {'prev': 'Sunny', 'prob': 0.038400000000000004},\n",
      "  'Sunny': {'prev': 'Sunny', 'prob': 0.043199999999999995}},\n",
      " {'Rainy': {'prev': 'Rainy', 'prob': 0.01344},\n",
      "  'Sunny': {'prev': 'Sunny', 'prob': 0.0025919999999999997}}]\n",
      "================================\n",
      "Final outcome:\n",
      "       0        1        2\n",
      "Rainy: 0.06000 0.03840 0.01344\n",
      "Sunny: 0.24000 0.04320 0.00259\n",
      "The steps of states are Sunny Rainy Rainy with highest probability of 0.01344\n"
     ]
    }
   ],
   "source": [
    "viterbi(\n",
    "    ('walk', 'shop', 'clean'),\n",
    "    states,\n",
    "    start_probability,\n",
    "    transition_probability,\n",
    "    emission_probability)"
   ]
  },
  {
   "cell_type": "code",
   "execution_count": 78,
   "metadata": {},
   "outputs": [
    {
     "name": "stdout",
     "output_type": "stream",
     "text": [
      "Viterbi table at step 0:\n",
      "[{'Rainy': {'prev': None, 'prob': 0.06}, 'Sunny': {'prev': None, 'prob': 0.24}}]\n",
      "Viterbi table at step 1:\n",
      "[{'Rainy': {'prev': None, 'prob': 0.06}, 'Sunny': {'prev': None, 'prob': 0.24}},\n",
      " {'Rainy': {'prev': 'Sunny', 'prob': 0.048},\n",
      "  'Sunny': {'prev': 'Sunny', 'prob': 0.0144}}]\n",
      "Viterbi table at step 2:\n",
      "[{'Rainy': {'prev': None, 'prob': 0.06}, 'Sunny': {'prev': None, 'prob': 0.24}},\n",
      " {'Rainy': {'prev': 'Sunny', 'prob': 0.048},\n",
      "  'Sunny': {'prev': 'Sunny', 'prob': 0.0144}},\n",
      " {'Rainy': {'prev': 'Rainy', 'prob': 0.00336},\n",
      "  'Sunny': {'prev': 'Rainy', 'prob': 0.00864}}]\n",
      "Viterbi table at step 3:\n",
      "[{'Rainy': {'prev': None, 'prob': 0.06}, 'Sunny': {'prev': None, 'prob': 0.24}},\n",
      " {'Rainy': {'prev': 'Sunny', 'prob': 0.048},\n",
      "  'Sunny': {'prev': 'Sunny', 'prob': 0.0144}},\n",
      " {'Rainy': {'prev': 'Rainy', 'prob': 0.00336},\n",
      "  'Sunny': {'prev': 'Rainy', 'prob': 0.00864}},\n",
      " {'Rainy': {'prev': 'Sunny', 'prob': 0.0013824000000000002},\n",
      "  'Sunny': {'prev': 'Sunny', 'prob': 0.0015552}}]\n",
      "================================\n",
      "Final outcome:\n",
      "       0        1        2        3\n",
      "Rainy: 0.06000 0.04800 0.00336 0.00138\n",
      "Sunny: 0.24000 0.01440 0.00864 0.00155\n",
      "The steps of states are Sunny Rainy Sunny Sunny with highest probability of 0.0015552\n"
     ]
    }
   ],
   "source": [
    "viterbi(\n",
    "    ('walk', 'clean', 'walk', 'shop'),\n",
    "    states,\n",
    "    start_probability,\n",
    "    transition_probability,\n",
    "    emission_probability)"
   ]
  },
  {
   "cell_type": "code",
   "execution_count": null,
   "metadata": {},
   "outputs": [],
   "source": []
  },
  {
   "cell_type": "code",
   "execution_count": null,
   "metadata": {},
   "outputs": [],
   "source": []
  }
 ],
 "metadata": {
  "kernelspec": {
   "display_name": "Python 3",
   "language": "python",
   "name": "python3"
  },
  "language_info": {
   "codemirror_mode": {
    "name": "ipython",
    "version": 3
   },
   "file_extension": ".py",
   "mimetype": "text/x-python",
   "name": "python",
   "nbconvert_exporter": "python",
   "pygments_lexer": "ipython3",
   "version": "3.7.2"
  }
 },
 "nbformat": 4,
 "nbformat_minor": 2
}
