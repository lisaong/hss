{
 "cells": [
  {
   "cell_type": "markdown",
   "metadata": {},
   "source": [
    "# Pose Estimation\n",
    "\n",
    "In this notebook, we will explore OpenPose, a pose estimation library. OpenPost detects human body keypoints using single images.\n",
    "\n",
    "https://github.com/CMU-Perceptual-Computing-Lab/openpose\n",
    "\n",
    "## Example Use Cases\n",
    "\n",
    "Pose estimation models can be used in video pre-processing to extract poses for further analysis. For example, in this paper, the sequence of poses are fed into a Hidden Markov Model for predicting future poses. Other use cases are gaming, medical diagnosis, robotic control, driver assistant, etc (see: https://en.wikipedia.org/wiki/Articulated_body_pose_estimation)\n",
    "\n",
    "![pose-dmm-dicta-17](assets/pose-dmm-dicta-17.png)\n",
    "\n",
    "Source: Toyer et. al., Human Pose Forecasting via Deep Markov Models, 2017"
   ]
  },
  {
   "cell_type": "code",
   "execution_count": null,
   "metadata": {},
   "outputs": [],
   "source": []
  },
  {
   "cell_type": "markdown",
   "metadata": {},
   "source": [
    "## Running OpenPose from the Command Line\n",
    "\n",
    "We will be exploring the OpenPose Demo command line application to extract poses from a video file.\n",
    "\n",
    "The poses will be saved to JSON."
   ]
  },
  {
   "cell_type": "markdown",
   "metadata": {},
   "source": [
    "### Setup (Windows only)\n",
    "\n",
    "1. Download openpose-1.4.0-win64-cpu-binaries.zip from https://github.com/CMU-Perceptual-Computing-Lab/openpose/releases. \n",
    "\n",
    "2. Unzip the file\n",
    "\n",
    "3. The pre-trained models are not included in the zip file because they are quite large. Download them:\n",
    "\n",
    "```\n",
    "cd openpose-1.4.0-win64-cpu-binaries\\models\n",
    "\n",
    "getModels.bat\n",
    "```\n",
    "\n",
    "The download should take about 5-10 minutes.\n",
    "\n",
    "#### Non-Windows?\n",
    "\n",
    "Unfortunately, installation for non-Windows involves building from source. To save time, you can partner with a classmate who has a Windows machine. \n",
    "\n",
    "Later, if you plan to do more work using OpenPose, you may wish to try these instructions at home (in your own time): https://github.com/CMU-Perceptual-Computing-Lab/openpose/blob/master/doc/installation.md#openpose-from-other-projects-ubuntu-and-mac"
   ]
  },
  {
   "cell_type": "code",
   "execution_count": null,
   "metadata": {},
   "outputs": [],
   "source": []
  },
  {
   "cell_type": "markdown",
   "metadata": {},
   "source": [
    "### Run (Windows only)\n",
    "\n",
    "1. [Important] run the demo from the top level openpose folder, not the subfolders:\n",
    "\n",
    "```\n",
    "cd openpose-1.4.0-win64-cpu-binaries\n",
    "\n",
    "bin\\OpenPoseDemo.exe --video examples\\media\\video.avi --face --hand --write_json output\n",
    "```\n",
    "\n",
    "The above command runs the demo for face and hand keypoint detection, and writes the results as JSON format in a folder called `output`.\n",
    "\n",
    "\n",
    "2. The video will run very slowly because this is the CPU version. \n",
    "\n",
    "Wait a few minutes to see keypoints appearing in the `output` folder.  There's no easy way to stop the demo. You should stop it after about 3-4 frames, because it consumes a lot of memory (use Ctrl+C).\n",
    "\n",
    "If you have an NVidia GPU, you may want to try the GPU version (which run significantly faster and is recommended).\n",
    "\n",
    "3. Other options are documented here:\n",
    "\n",
    "```\n",
    "bin\\OpenPoseDemo.exe --video examples\\media\\video.avi --help\n",
    "```\n",
    "\n",
    "https://github.com/CMU-Perceptual-Computing-Lab/openpose/blob/master/doc/demo_overview.md"
   ]
  },
  {
   "cell_type": "code",
   "execution_count": null,
   "metadata": {},
   "outputs": [],
   "source": []
  },
  {
   "cell_type": "markdown",
   "metadata": {},
   "source": []
  }
 ],
 "metadata": {
  "kernelspec": {
   "display_name": "Python 3",
   "language": "python",
   "name": "python3"
  },
  "language_info": {
   "codemirror_mode": {
    "name": "ipython",
    "version": 3
   },
   "file_extension": ".py",
   "mimetype": "text/x-python",
   "name": "python",
   "nbconvert_exporter": "python",
   "pygments_lexer": "ipython3",
   "version": "3.7.2"
  }
 },
 "nbformat": 4,
 "nbformat_minor": 2
}
